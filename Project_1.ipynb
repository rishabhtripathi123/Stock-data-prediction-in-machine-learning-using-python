{
 "cells": [
  {
   "cell_type": "code",
   "execution_count": 1,
   "metadata": {},
   "outputs": [],
   "source": [
    "from tkinter import *\n",
    "from sklearn.model_selection import train_test_split\n",
    "from sklearn.linear_model import LinearRegression\n",
    "import matplotlib.pyplot as plt\n",
    "from pandas_datareader import data as dt\n",
    "import datetime\n",
    "import numpy as np\n",
    "scr=Tk()"
   ]
  },
  {
   "cell_type": "code",
   "execution_count": 2,
   "metadata": {},
   "outputs": [],
   "source": [
    "v=StringVar(scr)\n",
    "v1=DoubleVar(scr)\n",
    "l=Label(scr,text=\"STOCK NAME\",bg=\"black\",fg=\"white\",font=('time','20','bold'))\n",
    "l.place(x=100,y=100)\n",
    "l1=Label(scr,text=\"TEST SIZE\",bg=\"black\",fg=\"white\",font=('time','20','bold'))\n",
    "l1.place(x=100,y=200)\n",
    "l2=Label(scr,text=\"PREDICT_DAYS\",bg=\"black\",fg=\"white\",font=('time','20','bold'))\n",
    "l2.place(x=100,y=300)\n",
    "l3=Label(scr,text=\"ACCURACY\",bg=\"black\",fg=\"white\",font=('time','20','bold'))\n",
    "l3.place(x=100,y=500)\n",
    "b=Button(scr,text=\"EVALUATE\",bg=\"powder blue\",fg=\"black\",font=('time','20','bold'),command=lambda:acyBtn())\n",
    "b.place(x=100,y=400)\n",
    "b1=Button(scr,text=\"VISUALIZE\",bg=\"powder blue\",fg=\"black\",font=('time','20','bold'),command=lambda:vizBtn())\n",
    "b1.place(x=1000,y=490)\n",
    "s=Scale(scr,orient=HORIZONTAL,from_=1,to=20,resolution=1,length=200,width=30)\n",
    "s.place(x=450,y=280)\n",
    "o=OptionMenu(scr,v,\"msft\",\"googl\",\"aapl\")\n",
    "o.place(x=500,y=100)\n",
    "o1=OptionMenu(scr,v1,\"0.1\",\"0.2\",\"0.3\")\n",
    "o1.place(x=500,y=200)"
   ]
  },
  {
   "cell_type": "code",
   "execution_count": 3,
   "metadata": {},
   "outputs": [],
   "source": [
    "def acyBtn():\n",
    "    O1=v.get()\n",
    "    O2=v1.get()\n",
    "    slider=IntVar()\n",
    "    pre=StringVar()\n",
    "    slider=s.get()\n",
    "    start=datetime.datetime(2010,1,1)\n",
    "    end=datetime.datetime.now()\n",
    "    f=dt.DataReader(O1,'tiingo',start,end,access_key='ef784d8168794791a3bebb52f6ba8d74fca49a11') \n",
    "    f.reset_index(inplace=True)\n",
    "    f.set_index('date',inplace=True)\n",
    "    f=f[['adjClose','adjHigh', 'adjLow', 'adjOpen', 'adjVolume']]\n",
    "    f.dropna().shape\n",
    "    no_days=slider\n",
    "    f['newclose']=f.adjClose.shift(-no_days)\n",
    "    x=f.drop(['adjClose','newclose'],axis=1)\n",
    "    y=f['newclose'].dropna()\n",
    "    x1=x[:-no_days]\n",
    "    x_pr=x[-no_days:]\n",
    "    x_tr,x_ts,y_tr,y_ts=train_test_split(x1,y,test_size=O2)\n",
    "    alg=LinearRegression()\n",
    "    alg.fit(x_tr,y_tr)\n",
    "    acc=alg.score(x_ts,y_ts)\n",
    "    l4=Label(scr,text=acc,bg=\"white\",fg=\"black\",font=('time','20','bold'))\n",
    "    l4.place(x=450,y=500)\n",
    "    pre=alg.predict(x_pr)\n",
    "    l5=Label(scr,text=pre,bg=\"white\",fg=\"black\",font=('time','20','bold'))\n",
    "    l5.place(x=100,y=580) \n",
    "\n",
    "    "
   ]
  },
  {
   "cell_type": "code",
   "execution_count": null,
   "metadata": {},
   "outputs": [],
   "source": [
    "def vizBtn():\n",
    "    O1=v.get()\n",
    "    O2=v1.get()\n",
    "    slider=IntVar()\n",
    "    pre=StringVar()\n",
    "    slider=s.get()\n",
    "    start=datetime.datetime(2010,1,1)\n",
    "    end=datetime.datetime.now()\n",
    "    f=dt.DataReader(O1,'tiingo',start,end,access_key='ef784d8168794791a3bebb52f6ba8d74fca49a11') \n",
    "    f.reset_index(inplace=True)\n",
    "    f.set_index('date',inplace=True)\n",
    "    f=f[['adjClose','adjHigh', 'adjLow', 'adjOpen', 'adjVolume']]\n",
    "    f.dropna().shape\n",
    "    no_days=slider\n",
    "    f['newclose']=f.adjClose.shift(-no_days)\n",
    "    x=f.drop(['adjClose','newclose'],axis=1)\n",
    "    y=f['newclose'].dropna()\n",
    "    x1=x[:-no_days]\n",
    "    x_pr=x[-no_days:]\n",
    "    x_tr,x_ts,y_tr,y_ts=train_test_split(x1,y,test_size=O2)\n",
    "    alg=LinearRegression()\n",
    "    alg.fit(x_tr,y_tr)\n",
    "    acc=alg.score(x_ts,y_ts)\n",
    "    f.iloc[-1].name\n",
    "    f.iloc[-1].name+datetime.timedelta(1)\n",
    "    f['forecast']=np.nan\n",
    "    prd =alg.predict(x_pr)\n",
    "    lastday=f.iloc[-1].name\n",
    "    for i in prd:\n",
    "        lastday+=datetime.timedelta(1)\n",
    "        f.loc[lastday]=[np.nan for _ in range(6)]+[i]\n",
    "    f['adjClose'].plot()\n",
    "    f['forecast'].plot()\n",
    "    plt.show()    \n",
    "    "
   ]
  },
  {
   "cell_type": "code",
   "execution_count": null,
   "metadata": {},
   "outputs": [],
   "source": [
    "scr.mainloop()"
   ]
  },
  {
   "cell_type": "code",
   "execution_count": null,
   "metadata": {},
   "outputs": [],
   "source": []
  },
  {
   "cell_type": "code",
   "execution_count": null,
   "metadata": {},
   "outputs": [],
   "source": []
  }
 ],
 "metadata": {
  "kernelspec": {
   "display_name": "Python 3",
   "language": "python",
   "name": "python3"
  },
  "language_info": {
   "codemirror_mode": {
    "name": "ipython",
    "version": 3
   },
   "file_extension": ".py",
   "mimetype": "text/x-python",
   "name": "python",
   "nbconvert_exporter": "python",
   "pygments_lexer": "ipython3",
   "version": "3.6.4"
  }
 },
 "nbformat": 4,
 "nbformat_minor": 2
}
